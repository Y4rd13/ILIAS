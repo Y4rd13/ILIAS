{
  "nbformat": 4,
  "nbformat_minor": 0,
  "metadata": {
    "colab": {
      "name": "W01_-A17.ipynb",
      "provenance": [],
      "collapsed_sections": [],
      "toc_visible": true
    },
    "kernelspec": {
      "display_name": "Python 3",
      "language": "python",
      "name": "python3"
    },
    "language_info": {
      "codemirror_mode": {
        "name": "ipython",
        "version": 3
      },
      "file_extension": ".py",
      "mimetype": "text/x-python",
      "name": "python",
      "nbconvert_exporter": "python",
      "pygments_lexer": "ipython3",
      "version": "3.8.5"
    }
  },
  "cells": [
    {
      "cell_type": "markdown",
      "metadata": {
        "id": "2AwqK4eU-RwS"
      },
      "source": [
        "# Exercise 1"
      ]
    },
    {
      "cell_type": "code",
      "metadata": {
        "colab": {
          "base_uri": "https://localhost:8080/"
        },
        "id": "hMPuJwnR-RwU",
        "outputId": "b24046fa-b76d-4177-a889-688821974928"
      },
      "source": [
        "s1 = \"564\"\n",
        "# Store the type of s1 in variable r1\n",
        "r1 = type(s1)\n",
        "print(\"s1 is a \" + str(r1) + \".\")"
      ],
      "execution_count": null,
      "outputs": [
        {
          "output_type": "stream",
          "text": [
            "s1 is a <class 'str'>.\n"
          ],
          "name": "stdout"
        }
      ]
    },
    {
      "cell_type": "code",
      "metadata": {
        "colab": {
          "base_uri": "https://localhost:8080/"
        },
        "id": "P-ep8GYi-RwU",
        "outputId": "e31d6f80-8ec0-4e5f-df7c-513eb36dd005"
      },
      "source": [
        "x2 = 36\n",
        "# Convert s1 to a number and calculate the sum of s1 and x2. Store the result as r2\n",
        "r2 = int(s1) + x2\n",
        "print(\"The sum of s1 and x2 is equal to \" + str(r2) + \".\")"
      ],
      "execution_count": null,
      "outputs": [
        {
          "output_type": "stream",
          "text": [
            "The sum of s1 and x2 is equal to 600.\n"
          ],
          "name": "stdout"
        }
      ]
    },
    {
      "cell_type": "code",
      "metadata": {
        "colab": {
          "base_uri": "https://localhost:8080/"
        },
        "id": "UV5q3Li7-RwV",
        "outputId": "bba37198-0382-4e6b-d6ad-c5be07ca0a75"
      },
      "source": [
        "s3 = \"In the loveliest town of all, where the houses were white and high and the elms trees were green and higher than the houses, where the front yards were wide and pleasant and the back yards were bushy and worth finding out about, where the streets sloped down to the stream and the stream flowed quietly under the bridge, where the lawns ended in orchards and the orchards ended in fields and the fields ended in pastures and the pastures climbed the hill and disappeared over the top toward the wonderful wide sky, in this loveliest of all towns Stuart stopped to get a drink of sarsaparilla.\"\n",
        "\n",
        "# How long is s3 in characters (incl. white spaces)? Store this number as r3\n",
        "r3 = len(s3)\n",
        "print(\"s3 is \" + str(r3) + \" characters long.\")"
      ],
      "execution_count": null,
      "outputs": [
        {
          "output_type": "stream",
          "text": [
            "s3 is 592 characters long.\n"
          ],
          "name": "stdout"
        }
      ]
    },
    {
      "cell_type": "code",
      "metadata": {
        "colab": {
          "base_uri": "https://localhost:8080/"
        },
        "id": "nI-m2Y1d-RwV",
        "outputId": "5f1ffce0-89eb-4839-c8db-ae8a97c7f9d8"
      },
      "source": [
        "# How often does the word \"were\" appear in s3? Store this as r4\n",
        "r4 = s3.count('were')\n",
        "print(\"The word 'were' appears \" + str(r4) + \" times in s3.\")"
      ],
      "execution_count": null,
      "outputs": [
        {
          "output_type": "stream",
          "text": [
            "The word 'were' appears 4 times in s3.\n"
          ],
          "name": "stdout"
        }
      ]
    },
    {
      "cell_type": "code",
      "metadata": {
        "colab": {
          "base_uri": "https://localhost:8080/"
        },
        "id": "FU77xYJZ-RwW",
        "outputId": "883ce6ca-521c-4fb9-c327-c16f91be31cd"
      },
      "source": [
        "# How many words are in s3 (also \"a\" counts as a word)? Store it as r5\n",
        "r5 = len(s3.split())\n",
        "print(\"There are \" + str(r5) + \" words in s3.\")"
      ],
      "execution_count": null,
      "outputs": [
        {
          "output_type": "stream",
          "text": [
            "There are 107 words in s3.\n"
          ],
          "name": "stdout"
        }
      ]
    },
    {
      "cell_type": "markdown",
      "metadata": {
        "id": "GsIaPpq0-RwW"
      },
      "source": [
        "# Exercise 2"
      ]
    },
    {
      "cell_type": "code",
      "metadata": {
        "colab": {
          "base_uri": "https://localhost:8080/"
        },
        "id": "y5MiaDoU-RwW",
        "outputId": "309846f9-5f0b-46fd-be57-2c6f84f11ad0"
      },
      "source": [
        "animals = [\"Bear\",\"Cat\",\"Ape\",\"Bear\",\"Cat\",\"Bear\",\"Ape\",\"Cat\",\"Bear\",\"Bear\",\"Tiger\",\"Tiger\",\"Ant\",\"Bird\",\"Bird\",\"Tiger\",\"Bear\",\"Ape\",\"Dog\",\"Ant\",\"Ape\",\"Bear\",\"Tiger\",\"Dog\",\"Ant\",\"Tiger\",\"Cat\",\"Ant\",\"Bird\",\"Bear\",\"Dog\",\"Bird\",\"Cat\",\"Tiger\",\"Bear\",\"Bear\",\"Cat\",\"Tiger\",\"Cat\",\"Dog\",\"Ant\",\"Bear\",\"Cat\",\"Ant\",\"Bird\",\"Dog\"]\n",
        "# Which animal is at the 23rd position of the animal list? Store it as r6\n",
        "# zero index\n",
        "r6 = animals[22]\n",
        "print(r6 + \" is at the 23rd position of the animal list.\")"
      ],
      "execution_count": null,
      "outputs": [
        {
          "output_type": "stream",
          "text": [
            "Tiger is at the 23rd position of the animal list.\n"
          ],
          "name": "stdout"
        }
      ]
    },
    {
      "cell_type": "code",
      "metadata": {
        "colab": {
          "base_uri": "https://localhost:8080/"
        },
        "id": "LCojtKcv-RwX",
        "outputId": "25725b6e-38cf-4b0f-ad04-61121297b84f"
      },
      "source": [
        "# How often does \"Cat\" appear in animals? Store this as r7\n",
        "r7 = animals.count('Cat')\n",
        "r7"
      ],
      "execution_count": null,
      "outputs": [
        {
          "output_type": "execute_result",
          "data": {
            "text/plain": [
              "8"
            ]
          },
          "metadata": {
            "tags": []
          },
          "execution_count": 13
        }
      ]
    },
    {
      "cell_type": "code",
      "metadata": {
        "colab": {
          "base_uri": "https://localhost:8080/"
        },
        "id": "zvMwzASI-RwX",
        "outputId": "05027067-aa0e-4969-d4c1-4fad7c4673e6"
      },
      "source": [
        "# Create a list of the unique animal names that appear in animals. Sort this list alphabetically. Store it as r8\n",
        "r8 = sorted(list(set(animals)))\n",
        "print('Unique sorted list: {}'.format(r8))"
      ],
      "execution_count": null,
      "outputs": [
        {
          "output_type": "stream",
          "text": [
            "Unique sorted list: ['Ant', 'Ape', 'Bear', 'Bird', 'Cat', 'Dog', 'Tiger']\n"
          ],
          "name": "stdout"
        }
      ]
    },
    {
      "cell_type": "code",
      "metadata": {
        "colab": {
          "base_uri": "https://localhost:8080/"
        },
        "id": "28dU1z8J-RwX",
        "outputId": "ba36b5a9-ed80-4925-f744-5444b44a7768"
      },
      "source": [
        "# Remove all animals that start with \"B\" from the animals list. Store this new list as r9.\n",
        "# The animals list should stay as it was!\n",
        "r9 = [i for i in animals if i[0] != 'B']\n",
        "r9"
      ],
      "execution_count": null,
      "outputs": [
        {
          "output_type": "execute_result",
          "data": {
            "text/plain": [
              "['Cat',\n",
              " 'Ape',\n",
              " 'Cat',\n",
              " 'Ape',\n",
              " 'Cat',\n",
              " 'Tiger',\n",
              " 'Tiger',\n",
              " 'Ant',\n",
              " 'Tiger',\n",
              " 'Ape',\n",
              " 'Dog',\n",
              " 'Ant',\n",
              " 'Ape',\n",
              " 'Tiger',\n",
              " 'Dog',\n",
              " 'Ant',\n",
              " 'Tiger',\n",
              " 'Cat',\n",
              " 'Ant',\n",
              " 'Dog',\n",
              " 'Cat',\n",
              " 'Tiger',\n",
              " 'Cat',\n",
              " 'Tiger',\n",
              " 'Cat',\n",
              " 'Dog',\n",
              " 'Ant',\n",
              " 'Cat',\n",
              " 'Ant',\n",
              " 'Dog']"
            ]
          },
          "metadata": {
            "tags": []
          },
          "execution_count": 90
        }
      ]
    },
    {
      "cell_type": "markdown",
      "metadata": {
        "id": "ttC-0LXF-RwY"
      },
      "source": [
        "# Exercise 3"
      ]
    },
    {
      "cell_type": "code",
      "metadata": {
        "id": "uckMwmwy-RwY",
        "colab": {
          "base_uri": "https://localhost:8080/"
        },
        "outputId": "d9e2890d-4ab0-49c6-bbe8-aa7171d1e9b3"
      },
      "source": [
        "# For some shipments in a supply chain the item, the item category, \n",
        "# the shipped amount and the returned amount (in cases) is given\n",
        "item     = [\"sparkling water\",\"blueberry muffin\",\"lids\",\"blueberry muffin\",\"decaffeinated coffee\",\"milk chocolate\",\"milk chocolate\",\"lemonade\",\"chicken sandwich\",\"plain bagel\",\"milk\",\"strawberry yogurt\",\"nuts and raisins\",\"nuts and raisins\",\"cups\",\"almond croissant\",\"iced tea\",\"cups\",\"milk chocolate\",\"spring salad\",\"grilled cheese sandwich\",\"decaffeinated coffee\",\"cups\",\"sparkling water\",\"granola bar\",\"egg salad sandwich\",\"orange juice\",\"milk\",\"milk chocolate\",\"blueberry muffin\",\"cranberry and almond bar\",\"lids\",\"lemonade\",\"marble pound cake\",\"milk\",\"iced tea\",\"salmon bistro box\",\"marble pound cake\",\"milk chocolate\",\"strawberry yogurt\",\"whipped cream\",\"almond croissant\",\"sparkling water\",\"oatmeal\",\"scone\",\"cranberry and almond bar\",\"chicken sandwich\",\"lemonade\",\"scone\",\"cranberry and almond bar\",\"spring salad\",\"lemonade\",\"cinnamon bagel\",\"apple juice\",\"cups\",\"oatmeal\",\"nuts and raisins\",\"lids\",\"sparkling water\",\"milk\",\"egg salad sandwich\",\"iced tea\",\"salmon bistro box\",\"sparkling water\",\"marble pound cake\",\"plain bagel\",\"milk\",\"cups\",\"grilled cheese sandwich\",\"nuts and raisins\",\"nuts and raisins\",\"chocolate croissant\",\"spring salad\",\"granola bar\",\"lids\",\"cranberry and almond bar\",\"egg salad sandwich\",\"egg salad sandwich\",\"cranberry and almond bar\",\"decaffeinated coffee\",\"almond croissant\",\"lemonade\",\"lids\",\"sparkling water\",\"apple juice\",\"salmon bistro box\",\"whipped cream\",\"lemonade\",\"strawberry yogurt\",\"orange juice\",\"almond croissant\",\"cinnamon bagel\",\"marble pound cake\",\"orange juice\",\"chocolate croissant\",\"cups\",\"oatmeal\",\"sparkling water\",\"normal coffee\",\"blueberry muffin\",\"blueberry muffin\",\"nuts and raisins\",\"nuts and raisins\",\"scone\",\"milk\",\"decaffeinated coffee\",\"iced tea\",\"granola bar\",\"lids\",\"milk\",\"oatmeal\",\"normal coffee\",\"salmon bistro box\",\"lemonade\",\"cinnamon bagel\",\"normal coffee\",\"almond croissant\"]\n",
        "category = [\"beverage\",\"bakery\",\"container\",\"bakery\",\"coffee\",\"packaged food\",\"packaged food\",\"beverage\",\"prepared food\",\"bakery\",\"dairy\",\"prepared food\",\"packaged food\",\"packaged food\",\"container\",\"bakery\",\"beverage\",\"container\",\"packaged food\",\"prepared food\",\"prepared food\",\"coffee\",\"container\",\"beverage\",\"packaged food\",\"prepared food\",\"beverage\",\"dairy\",\"packaged food\",\"bakery\",\"packaged food\",\"container\",\"beverage\",\"bakery\",\"dairy\",\"beverage\",\"prepared food\",\"bakery\",\"packaged food\",\"prepared food\",\"dairy\",\"bakery\",\"beverage\",\"packaged food\",\"bakery\",\"packaged food\",\"prepared food\",\"beverage\",\"bakery\",\"packaged food\",\"prepared food\",\"beverage\",\"bakery\",\"beverage\",\"container\",\"packaged food\",\"packaged food\",\"container\",\"beverage\",\"dairy\",\"prepared food\",\"beverage\",\"prepared food\",\"beverage\",\"bakery\",\"bakery\",\"dairy\",\"container\",\"prepared food\",\"packaged food\",\"packaged food\",\"bakery\",\"prepared food\",\"packaged food\",\"container\",\"packaged food\",\"prepared food\",\"prepared food\",\"packaged food\",\"coffee\",\"bakery\",\"beverage\",\"container\",\"beverage\",\"beverage\",\"prepared food\",\"dairy\",\"beverage\",\"prepared food\",\"beverage\",\"bakery\",\"bakery\",\"bakery\",\"beverage\",\"bakery\",\"container\",\"packaged food\",\"beverage\",\"coffee\",\"bakery\",\"bakery\",\"packaged food\",\"packaged food\",\"bakery\",\"dairy\",\"coffee\",\"beverage\",\"packaged food\",\"container\",\"dairy\",\"packaged food\",\"coffee\",\"prepared food\",\"beverage\",\"bakery\",\"coffee\",\"bakery\"]\n",
        "shipped  = [49,25,41,28,49,28,25,37,49,41,23,21,37,44,38,48,21,50,26,26,33,39,25,42,37,43,35,38,43,24,47,22,27,44,21,43,34,42,39,29,25,20,36,39,45,50,34,25,43,35,28,21,34,21,35,25,31,23,45,39,31,40,46,28,35,46,36,46,43,21,47,30,40,36,24,28,32,30,27,36,41,43,42,32,40,26,41,40,33,40,41,45,43,36,46,30,40,42,39,40,48,44,36,49,27,31,26,23,22,44,50,38,35,36,20,36,31]\n",
        "returned = [1,0,7,7,0,1,9,1,4,8,10,9,0,9,2,7,3,6,7,1,6,4,1,0,1,6,2,7,5,1,2,4,4,5,7,4,7,4,1,5,2,6,0,7,8,4,1,7,5,0,9,1,0,6,8,6,7,10,9,5,9,0,1,0,10,7,4,2,8,8,9,4,7,7,5,5,1,6,1,6,3,2,8,9,0,9,3,10,9,1,4,8,2,2,10,1,0,3,1,10,8,8,4,8,6,8,2,2,7,7,4,4,9,7,4,6,9]\n",
        "\n",
        "# How many cases were shipped in total? Store this number as r10\n",
        "r10 = sum(shipped)\n",
        "r10"
      ],
      "execution_count": null,
      "outputs": [
        {
          "output_type": "execute_result",
          "data": {
            "text/plain": [
              "4145"
            ]
          },
          "metadata": {
            "tags": []
          },
          "execution_count": 92
        }
      ]
    },
    {
      "cell_type": "code",
      "metadata": {
        "colab": {
          "base_uri": "https://localhost:8080/"
        },
        "id": "_gAnRu_p-Rwb",
        "outputId": "b975964e-66cb-4a34-b4e0-f9e0f4c642fb"
      },
      "source": [
        "# What is the total return ratio, i.e. the total number of returns divided by the total number of shipments?\n",
        "# Store this ratio (number between 0-1) as r11\n",
        "r11 = sum(returned) / sum(shipped)\n",
        "r11"
      ],
      "execution_count": null,
      "outputs": [
        {
          "output_type": "execute_result",
          "data": {
            "text/plain": [
              "0.1367913148371532"
            ]
          },
          "metadata": {
            "tags": []
          },
          "execution_count": 27
        }
      ]
    },
    {
      "cell_type": "code",
      "metadata": {
        "colab": {
          "base_uri": "https://localhost:8080/"
        },
        "id": "iQoGz9-t-Rwd",
        "outputId": "fdf5e334-dd2f-4d69-e75e-0dc89f259145"
      },
      "source": [
        "# What is the return ratio for the category \"bakery\"? Store this number as r12\n",
        "r12 = 0\n",
        "v_returned = 0\n",
        "v_shipped = 0\n",
        "\n",
        "for i in range(len(item)):\n",
        "    if category[i] == 'bakery':\n",
        "        v_returned += returned[i]\n",
        "        v_shipped  += shipped[i]\n",
        "\n",
        "r12 = v_returned / v_shipped\n",
        "print(r12)"
      ],
      "execution_count": null,
      "outputs": [
        {
          "output_type": "stream",
          "text": [
            "0.15181518151815182\n"
          ],
          "name": "stdout"
        }
      ]
    },
    {
      "cell_type": "code",
      "metadata": {
        "colab": {
          "base_uri": "https://localhost:8080/"
        },
        "id": "7YCRQfew-Rwd",
        "outputId": "3ec3778c-6d4e-4193-d10b-0d364efdf0cd"
      },
      "source": [
        "# Which item has the lowest return ratio? Store this item name as r13\n",
        "set_items = set(item)\n",
        "d = {}\n",
        "\n",
        "for it in set_items:\n",
        "    aux, v_shipped, v_returned = 0, 0, 0\n",
        "    \n",
        "    for i in range(len(item)):\n",
        "        if item[i] == it:\n",
        "            v_returned += returned[i]\n",
        "            v_shipped  += shipped[i]\n",
        "\n",
        "    aux = v_returned / v_shipped        \n",
        "    d[it] = aux\n",
        "\n",
        "for i in d.keys():\n",
        "    if d[i] == min(d.values()):\n",
        "        r13 = i\n",
        "\n",
        "print(d)\n",
        "print(r13)"
      ],
      "execution_count": null,
      "outputs": [
        {
          "output_type": "stream",
          "text": [
            "{'oatmeal': 0.11038961038961038, 'marble pound cake': 0.12804878048780488, 'sparkling water': 0.08029197080291971, 'milk': 0.20175438596491227, 'spring salad': 0.18085106382978725, 'lemonade': 0.13973799126637554, 'cups': 0.08928571428571429, 'granola bar': 0.10416666666666667, 'milk chocolate': 0.14285714285714285, 'cranberry and almond bar': 0.06417112299465241, 'egg salad sandwich': 0.16176470588235295, 'orange juice': 0.04504504504504504, 'almond croissant': 0.16022099447513813, 'cinnamon bagel': 0.12121212121212122, 'scone': 0.15328467153284672, 'strawberry yogurt': 0.27710843373493976, 'salmon bistro box': 0.18439716312056736, 'apple juice': 0.09836065573770492, 'plain bagel': 0.1724137931034483, 'lids': 0.23563218390804597, 'iced tea': 0.06923076923076923, 'blueberry muffin': 0.15757575757575756, 'nuts and raisins': 0.17307692307692307, 'whipped cream': 0.07575757575757576, 'chocolate croissant': 0.18421052631578946, 'grilled cheese sandwich': 0.18421052631578946, 'normal coffee': 0.09734513274336283, 'chicken sandwich': 0.060240963855421686, 'decaffeinated coffee': 0.11612903225806452}\n",
            "orange juice\n"
          ],
          "name": "stdout"
        }
      ]
    }
  ]
}