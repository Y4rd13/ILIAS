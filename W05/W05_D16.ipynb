{
  "nbformat": 4,
  "nbformat_minor": 0,
  "metadata": {
    "colab": {
      "name": "linear_regression.ipynb",
      "provenance": [],
      "collapsed_sections": []
    },
    "kernelspec": {
      "name": "python3",
      "display_name": "Python 3"
    },
    "language_info": {
      "name": "python"
    },
    "accelerator": "GPU"
  },
  "cells": [
    {
      "cell_type": "code",
      "metadata": {
        "id": "LWs2ePN1aEiF"
      },
      "source": [
        "\"\"\" import libraries \"\"\"\n",
        "import os\n",
        "import numpy as np\n",
        "import pandas as pd\n",
        "from sklearn.model_selection import train_test_split\n",
        "from sklearn.linear_model import LinearRegression, Ridge, Lasso\n",
        "from sklearn.metrics import r2_score\n",
        "import io\n",
        "import requests"
      ],
      "execution_count": 1,
      "outputs": []
    },
    {
      "cell_type": "code",
      "metadata": {
        "id": "Uo5RCBrub_90"
      },
      "source": [
        "\"\"\" Load dataset \"\"\"\n",
        "def load_dataset(url: str, sep: str = '\\t', decode: str = 'utf-8'):\n",
        "    \"\"\"Load the csv datset\n",
        "\n",
        "    Parameters\n",
        "    ----------\n",
        "    url : str\n",
        "        target url of the dataset to be loaded\n",
        "    sep : str\n",
        "        sep argument from `pd.read_csv`\n",
        "    decode : str\n",
        "        decode method to be used in the dataframe\n",
        "\n",
        "    Returns\n",
        "    -------\n",
        "    dataframe : pd.core.frame.DataFrame \n",
        "    \"\"\"\n",
        "    def requests_csv(url, decode):\n",
        "        return (requests.get(url).content).decode(decode)\n",
        "    return pd.read_csv(io.StringIO(requests_csv(url, decode)), sep=sep, error_bad_lines=True)\n"
      ],
      "execution_count": 2,
      "outputs": []
    },
    {
      "cell_type": "code",
      "metadata": {
        "id": "KUsoRW4c0NPB"
      },
      "source": [
        "url_test, url_train = \"https://raw.githubusercontent.com/Y4rd13/ILIAS/main/datasets/W05_test.txt\", \"https://raw.githubusercontent.com/Y4rd13/ILIAS/main/datasets/W05_train.txt\"\n",
        "train_df, test_df = load_dataset(url_train), load_dataset(url_test)"
      ],
      "execution_count": 3,
      "outputs": []
    },
    {
      "cell_type": "code",
      "metadata": {
        "id": "kubEISnte9kH"
      },
      "source": [
        "\"\"\" EDA\"\"\"\n",
        "def analyze_data(train_df, test_df):\n",
        "  print(\"number of columns: \", len(train_df.columns))\n",
        "  print(\"columns names: \", train_df.columns)\n",
        "  print(\"info: \\n\", train_df.info)\n",
        "  print(\"head : \\n\", train_df.head)"
      ],
      "execution_count": 4,
      "outputs": []
    },
    {
      "cell_type": "code",
      "metadata": {
        "id": "vKiedFykeT0w"
      },
      "source": [
        "\"\"\" cleaning \"\"\"\n",
        "def clean_dataset(train_df, test_df):\n",
        "  train_df = train_df.loc[:, ~train_df.columns.str.contains('^Unnamed')]\n",
        "  test_df = test_df.loc[:, ~test_df.columns.str.contains('^Unnamed')]\n",
        "  train_df = train_df.dropna()\n",
        "  test_df = test_df.dropna()\n",
        "  return train_df, test_df"
      ],
      "execution_count": 5,
      "outputs": []
    },
    {
      "cell_type": "code",
      "metadata": {
        "id": "StxORFbKfymA"
      },
      "source": [
        "\"\"\" create dataset \"\"\"\n",
        "def split_dataset(train_df, test_df, num_cols, single_feature=0):\n",
        "  if single_feature:\n",
        "    X_train = train_df.iloc[ : , single_feature-1:single_feature]\n",
        "    X_test = test_df.iloc[ : , single_feature-1:single_feature]\n",
        "  else:\n",
        "    X_train = train_df.iloc[ : , 0:num_cols]\n",
        "    X_test = test_df.iloc[ : , 0:num_cols]\n",
        "  \n",
        "  Y_train = train_df[\"relative_humidity_3pm\"]\n",
        "  Y_test = test_df[\"relative_humidity_3pm\"]\n",
        "  \n",
        "  # X_train, X_test, Y_train, Y_test = train_test_split(X, Y, test_size=0.3, random_state=42)\n",
        "\n",
        "  return X_train, X_test, Y_train, Y_test, test_df "
      ],
      "execution_count": 6,
      "outputs": []
    },
    {
      "cell_type": "code",
      "metadata": {
        "id": "r033LpjhqKEJ"
      },
      "source": [
        "def train_model(X_train, X_test, Y_train, Y_test, test_df, model_type=\"Linear\", alpha=0):\n",
        "  if model_type == \"Linear\":\n",
        "    model = LinearRegression()\n",
        "  elif model_type == \"Ridge\":\n",
        "    model = Ridge(alpha=alpha) \n",
        "  elif model_type == \"Lasso\":\n",
        "    model = Lasso(alpha=alpha)\n",
        "\n",
        "  model.fit(X_train, Y_train)\n",
        "  train_acc = model.score(X_train, Y_train)\n",
        "  print('training acc :', train_acc)\n",
        "\n",
        "  Y_pred = model.predict(X_test)\n",
        "  print(\"r2_score: \",r2_score(Y_test, Y_pred))\n",
        "  \n"
      ],
      "execution_count": 7,
      "outputs": []
    },
    {
      "cell_type": "code",
      "metadata": {
        "colab": {
          "base_uri": "https://localhost:8080/"
        },
        "id": "C00KMCzhdj5e",
        "outputId": "14ddedc3-2992-48c4-c9a3-9ee2781a89f5"
      },
      "source": [
        "train_df, test_df = clean_dataset(train_df, test_df)\n",
        "\"\"\" train using 9,6,7 features \"\"\"\n",
        "for num_of_features in [9, 6, 7]:\n",
        "  model_type=\"Linear\"\n",
        "  print(\"\\n model_type : \", model_type)\n",
        "  print(\"\\n number of features : \", num_of_features)\n",
        "  X_train, X_test, Y_train, Y_test, test_df = split_dataset(train_df, test_df, 8)\n",
        "  train_model(X_train, X_test, Y_train, Y_test, test_df)\n",
        "  print(\"===\"*24)\n",
        "\n",
        "\"\"\" train using 7th features \"\"\"\n",
        "print(\"\\n 7th feature \")\n",
        "model_type=\"Linear\"\n",
        "print(\"\\n model_type : \", model_type)\n",
        "X_train, X_test, Y_train, Y_test, test_df = split_dataset(train_df, test_df, 0, single_feature=7)\n",
        "train_model(X_train, X_test, Y_train, Y_test, test_df)\n",
        "print(\"===\"*24)\n",
        "\n",
        "\"\"\" with ridge \"\"\"\n",
        "print(\"\\n with ridge \")\n",
        "X_train, X_test, Y_train, Y_test, test_df = split_dataset(train_df, test_df, 9)\n",
        "for alpha in [10,100]:\n",
        "  model_type=\"Ridge\"\n",
        "  print(\"\\n model_type : \", model_type)\n",
        "  print(\"\\n alpha : \", alpha)\n",
        "  train_model(X_train, X_test, Y_train, Y_test, test_df, model_type=model_type, alpha=alpha)\n",
        "  print(\"===\"*24)\n",
        "\n",
        "\"\"\" with lasso \"\"\"\n",
        "X_train, X_test, Y_train, Y_test, test_df = split_dataset(train_df, test_df, 9)\n",
        "for alpha in [10]:\n",
        "  model_type=\"Lasso\"\n",
        "  print(\"\\n model_type : \", model_type)\n",
        "  print(\"\\n alpha : \", alpha)\n",
        "  train_model(X_train, X_test, Y_train, Y_test, test_df, model_type=model_type, alpha=alpha)\n",
        "  print(\"===\"*24)"
      ],
      "execution_count": 8,
      "outputs": [
        {
          "output_type": "stream",
          "text": [
            "\n",
            " model_type :  Linear\n",
            "\n",
            " number of features :  9\n",
            "training acc : 0.7836718496784403\n",
            "r2_score:  0.7274624557985638\n",
            "========================================================================\n",
            "\n",
            " model_type :  Linear\n",
            "\n",
            " number of features :  6\n",
            "training acc : 0.7836718496784403\n",
            "r2_score:  0.7274624557985638\n",
            "========================================================================\n",
            "\n",
            " model_type :  Linear\n",
            "\n",
            " number of features :  7\n",
            "training acc : 0.7836718496784403\n",
            "r2_score:  0.7274624557985638\n",
            "========================================================================\n",
            "\n",
            " 7th feature \n",
            "\n",
            " model_type :  Linear\n",
            "training acc : 0.7205504432516265\n",
            "r2_score:  0.7479772044517505\n",
            "========================================================================\n",
            "\n",
            " with ridge \n",
            "\n",
            " model_type :  Ridge\n",
            "\n",
            " alpha :  10\n",
            "training acc : 0.7859826056814028\n",
            "r2_score:  0.7217155552690024\n",
            "========================================================================\n",
            "\n",
            " model_type :  Ridge\n",
            "\n",
            " alpha :  100\n",
            "training acc : 0.7661884367393521\n",
            "r2_score:  0.7402975339860983\n",
            "========================================================================\n",
            "\n",
            " model_type :  Lasso\n",
            "\n",
            " alpha :  10\n",
            "training acc : 0.7361773012054045\n",
            "r2_score:  0.74694688048163\n",
            "========================================================================\n"
          ],
          "name": "stdout"
        }
      ]
    }
  ]
}