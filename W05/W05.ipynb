{
  "nbformat": 4,
  "nbformat_minor": 0,
  "metadata": {
    "colab": {
      "name": "regression_using_sklearn.ipynb",
      "provenance": [],
      "collapsed_sections": [],
      "machine_shape": "hm"
    },
    "kernelspec": {
      "name": "python3",
      "display_name": "Python 3"
    },
    "language_info": {
      "name": "python"
    },
    "accelerator": "GPU"
  },
  "cells": [
    {
      "cell_type": "code",
      "metadata": {
        "id": "LWs2ePN1aEiF"
      },
      "source": [
        "\"\"\" import libraries \"\"\"\n",
        "import io\n",
        "import requests\n",
        "import os\n",
        "import numpy as np\n",
        "import pandas as pd\n",
        "from sklearn.model_selection import train_test_split\n",
        "from sklearn.linear_model import LinearRegression, Ridge, Lasso\n",
        "from sklearn.metrics import r2_score"
      ],
      "execution_count": 1,
      "outputs": []
    },
    {
      "cell_type": "code",
      "metadata": {
        "id": "pmlm4cc3chEA"
      },
      "source": [
        "\"\"\" Load dataset \"\"\"\n",
        "def load_dataset(url: str, sep: str = '\\t', decode: str = 'utf-8'):\n",
        "    \"\"\"Load the csv datset\n",
        "\n",
        "    Parameters\n",
        "    ----------\n",
        "    url : str\n",
        "        target url of the dataset to be loaded\n",
        "    sep : str\n",
        "        sep argument from `pd.read_csv`\n",
        "    decode : str\n",
        "        decode method to be used in the dataframe\n",
        "\n",
        "    Returns\n",
        "    -------\n",
        "    dataframe : pd.core.frame.DataFrame \n",
        "    \"\"\"\n",
        "    def requests_csv(url, decode):\n",
        "        return (requests.get(url).content).decode(decode)\n",
        "    return pd.read_csv(io.StringIO(requests_csv(url, decode)), sep=sep, error_bad_lines=True)\n"
      ],
      "execution_count": 2,
      "outputs": []
    },
    {
      "cell_type": "code",
      "metadata": {
        "id": "mHzUs0yo1Ldn"
      },
      "source": [
        "url_test, url_train = \"https://raw.githubusercontent.com/Y4rd13/ILIAS/main/datasets/W05_test.txt\", \"https://raw.githubusercontent.com/Y4rd13/ILIAS/main/datasets/W05_train.txt\"\n",
        "train_df, test_df = load_dataset(url_train), load_dataset(url_test)"
      ],
      "execution_count": 3,
      "outputs": []
    },
    {
      "cell_type": "code",
      "metadata": {
        "id": "kubEISnte9kH"
      },
      "source": [
        "\"\"\" EDA\"\"\"\n",
        "def analyze_data(train_df, test_df):\n",
        "  print(\"number of columns: \", len(train_df.columns))\n",
        "  print(\"columns names: \", train_df.columns)\n",
        "  print(\"info: \\n\", train_df.info)\n",
        "  print(\"head : \\n\", train_df.head)"
      ],
      "execution_count": 4,
      "outputs": []
    },
    {
      "cell_type": "code",
      "metadata": {
        "id": "vKiedFykeT0w"
      },
      "source": [
        "\"\"\" cleaning \"\"\"\n",
        "def clean_dataset(train_df, test_df):\n",
        "  train_df = train_df.loc[:, ~train_df.columns.str.contains('^Unnamed')]\n",
        "  test_df = test_df.loc[:, ~test_df.columns.str.contains('^Unnamed')]\n",
        "  train_df = train_df.dropna()\n",
        "  test_df = test_df.dropna()\n",
        "  return train_df, test_df"
      ],
      "execution_count": 5,
      "outputs": []
    },
    {
      "cell_type": "code",
      "metadata": {
        "id": "StxORFbKfymA"
      },
      "source": [
        "\"\"\" create dataset \"\"\"\n",
        "def split_dataset(train_df, test_df, num_of_features, single_feature=0):\n",
        "  if single_feature:\n",
        "    X_train = train_df.iloc[ : , single_feature-1:single_feature]\n",
        "    X_test = test_df.iloc[ : , single_feature-1:single_feature]\n",
        "  else:\n",
        "    X_train = train_df.iloc[ : , 0:num_of_features]\n",
        "    X_test = test_df.iloc[ : , 0:num_of_features]\n",
        "  \n",
        "  Y_train = train_df[\"relative_humidity_3pm\"]\n",
        "  Y_test = test_df[\"relative_humidity_3pm\"]\n",
        "  \n",
        "  # X_train, X_test, Y_train, Y_test = train_test_split(X, Y, test_size=0.3, random_state=42)\n",
        "\n",
        "  return X_train, X_test, Y_train, Y_test, test_df "
      ],
      "execution_count": 6,
      "outputs": []
    },
    {
      "cell_type": "code",
      "metadata": {
        "id": "r033LpjhqKEJ"
      },
      "source": [
        "def train_model(X_train, X_test, Y_train, Y_test, test_df, model_type=\"Linear\", alpha=0):\n",
        "  print(\"\\n model_type : \", model_type)\n",
        "  print(\"\\n alpha : \", alpha)\n",
        "  print(\"\\n training data shape : \", X_train.shape)\n",
        "  if model_type == \"Linear\":\n",
        "    model = LinearRegression()\n",
        "  elif model_type == \"Ridge\":\n",
        "    model = Ridge(alpha=alpha) \n",
        "  elif model_type == \"Lasso\":\n",
        "    model = Lasso(alpha=alpha)\n",
        "\n",
        "  model.fit(X_train, Y_train)\n",
        "  print(\"\\n intercept constant : \", model.intercept_)\n",
        "  print(\"\\n coefficients : \", model.coef_)\n",
        "  train_acc = model.score(X_train, Y_train)\n",
        "  print('training acc :', train_acc)\n",
        "  train_acc = model.score(X_test, Y_test)\n",
        "  print('test acc :', train_acc)\n",
        "  Y_pred = model.predict(X_test)\n",
        "  print(\"r2_score: \",r2_score(Y_test, Y_pred))\n",
        "\n"
      ],
      "execution_count": 7,
      "outputs": []
    },
    {
      "cell_type": "code",
      "metadata": {
        "colab": {
          "base_uri": "https://localhost:8080/"
        },
        "id": "C00KMCzhdj5e",
        "outputId": "2cfeda39-b0ee-4215-d94f-17d6f307c25f"
      },
      "source": [
        "# def main():\n",
        "train_df, test_df = clean_dataset(train_df, test_df)\n",
        "\"\"\" train using 9,6,7 features \"\"\"\n",
        "for num_of_features in [9, 6, 7]:\n",
        "  model_type=\"Linear\"\n",
        "  # print(\"\\n model_type : \", model_type)\n",
        "  print(\"\\n number of features : \", num_of_features)\n",
        "  X_train, X_test, Y_train, Y_test, test_df = split_dataset(train_df, test_df, num_of_features)\n",
        "  train_model(X_train, X_test, Y_train, Y_test, test_df)\n",
        "  print(\"===\"*24)\n",
        "\n",
        "\"\"\" train using 7th features \"\"\"\n",
        "print(\"\\n 7th feature \")\n",
        "model_type=\"Linear\"\n",
        "# print(\"\\n model_type : \", model_type)\n",
        "print(\"\\n number of features : \", 1)\n",
        "X_train, X_test, Y_train, Y_test, test_df = split_dataset(train_df, test_df, 0, single_feature=7)\n",
        "train_model(X_train, X_test, Y_train, Y_test, test_df)\n",
        "print(\"===\"*24)\n",
        "\n",
        "\"\"\" with ridge \"\"\"\n",
        "X_train, X_test, Y_train, Y_test, test_df = split_dataset(train_df, test_df, 9)\n",
        "for alpha in [10,100]:\n",
        "  model_type=\"Ridge\"\n",
        "  # print(\"\\n model_type : \", model_type)\n",
        "  # print(\"\\n alpha : \", alpha)\n",
        "  train_model(X_train, X_test, Y_train, Y_test, test_df, model_type=model_type, alpha=alpha)\n",
        "  print(\"===\"*24)\n",
        "\n",
        "\"\"\" with lasso \"\"\"\n",
        "X_train, X_test, Y_train, Y_test, test_df = split_dataset(train_df, test_df, 9)\n",
        "for alpha in [10]:\n",
        "  model_type=\"Lasso\"\n",
        "  # print(\"\\n model_type : \", model_type)\n",
        "  # print(\"\\n alpha : \", alpha)\n",
        "  train_model(X_train, X_test, Y_train, Y_test, test_df, model_type=model_type, alpha=alpha)\n",
        "  print(\"===\"*24)\n"
      ],
      "execution_count": 8,
      "outputs": [
        {
          "output_type": "stream",
          "text": [
            "\n",
            " number of features :  9\n",
            "\n",
            " model_type :  Linear\n",
            "\n",
            " alpha :  0\n",
            "\n",
            " training data shape :  (100, 9)\n",
            "\n",
            " intercept constant :  1139.1316986389386\n",
            "\n",
            " coefficients :  [-1.20470345e+00 -2.70620549e-01 -4.14750835e-03  7.77855080e+00\n",
            "  3.25492496e-02 -6.41302659e+00  5.11778940e-01 -3.57155274e+00\n",
            "  3.19053093e-03]\n",
            "training acc : 0.7913271144231643\n",
            "test acc : 0.6926182046194334\n",
            "r2_score:  0.6926182046194334\n",
            "========================================================================\n",
            "\n",
            " number of features :  6\n",
            "\n",
            " model_type :  Linear\n",
            "\n",
            " alpha :  0\n",
            "\n",
            " training data shape :  (100, 6)\n",
            "\n",
            " intercept constant :  2385.1456902047516\n",
            "\n",
            " coefficients :  [-2.48966524 -1.0753879   0.11164217  8.77176471 -0.02628503 -7.51195889]\n",
            "training acc : 0.639127824876499\n",
            "test acc : 0.47201635966274375\n",
            "r2_score:  0.4720163596627438\n",
            "========================================================================\n",
            "\n",
            " number of features :  7\n",
            "\n",
            " model_type :  Linear\n",
            "\n",
            " alpha :  0\n",
            "\n",
            " training data shape :  (100, 7)\n",
            "\n",
            " intercept constant :  1005.7697789934289\n",
            "\n",
            " coefficients :  [-1.05786405 -0.29867545  0.02014745  8.03071485  0.01170779 -6.63662967\n",
            "  0.52286904]\n",
            "training acc : 0.7834897072982793\n",
            "test acc : 0.7294255319114435\n",
            "r2_score:  0.7294255319114435\n",
            "========================================================================\n",
            "\n",
            " 7th feature \n",
            "\n",
            " number of features :  1\n",
            "\n",
            " model_type :  Linear\n",
            "\n",
            " alpha :  0\n",
            "\n",
            " training data shape :  (100, 1)\n",
            "\n",
            " intercept constant :  10.618285746254653\n",
            "\n",
            " coefficients :  [0.70131642]\n",
            "training acc : 0.7205504432516265\n",
            "test acc : 0.7479772044517505\n",
            "r2_score:  0.7479772044517505\n",
            "========================================================================\n",
            "\n",
            " model_type :  Ridge\n",
            "\n",
            " alpha :  10\n",
            "\n",
            " training data shape :  (100, 9)\n",
            "\n",
            " intercept constant :  1137.2991648021286\n",
            "\n",
            " coefficients :  [-1.20668898e+00 -2.58580756e-01  6.01890368e-03  4.41570850e+00\n",
            "  3.14439970e-02 -3.55831477e+00  5.19789100e-01 -2.75190183e+00\n",
            "  2.52496448e-03]\n",
            "training acc : 0.7859826056814034\n",
            "test acc : 0.7217155552690011\n",
            "r2_score:  0.7217155552690011\n",
            "========================================================================\n",
            "\n",
            " model_type :  Ridge\n",
            "\n",
            " alpha :  100\n",
            "\n",
            " training data shape :  (100, 9)\n",
            "\n",
            " intercept constant :  989.8037995331374\n",
            "\n",
            " coefficients :  [-1.05207563e+00 -2.30757437e-01  2.04224904e-02  9.93699765e-01\n",
            "  2.84405083e-02 -6.48740449e-01  5.38374601e-01 -7.83861332e-01\n",
            "  1.05125096e-03]\n",
            "training acc : 0.7661884367393518\n",
            "test acc : 0.7402975339860982\n",
            "r2_score:  0.7402975339860982\n",
            "========================================================================\n",
            "\n",
            " model_type :  Lasso\n",
            "\n",
            " alpha :  10\n",
            "\n",
            " training data shape :  (100, 9)\n",
            "\n",
            " intercept constant :  9.723640727109245\n",
            "\n",
            " coefficients :  [-0.00000000e+00 -5.63424679e-02  1.35656203e-02  0.00000000e+00\n",
            "  3.45179909e-02  0.00000000e+00  6.21223001e-01 -0.00000000e+00\n",
            "  4.51062172e-04]\n",
            "training acc : 0.7361773012054045\n",
            "test acc : 0.74694688048163\n",
            "r2_score:  0.74694688048163\n",
            "========================================================================\n"
          ],
          "name": "stdout"
        }
      ]
    }
  ]
}